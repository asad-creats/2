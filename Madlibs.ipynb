{
  "nbformat": 4,
  "nbformat_minor": 0,
  "metadata": {
    "colab": {
      "provenance": [],
      "authorship_tag": "ABX9TyMHn0R3LkISYzOuChOkGIta",
      "include_colab_link": true
    },
    "kernelspec": {
      "name": "python3",
      "display_name": "Python 3"
    },
    "language_info": {
      "name": "python"
    }
  },
  "cells": [
    {
      "cell_type": "markdown",
      "metadata": {
        "id": "view-in-github",
        "colab_type": "text"
      },
      "source": [
        "<a href=\"https://colab.research.google.com/github/asad-creats/2/blob/master/Madlibs.ipynb\" target=\"_parent\"><img src=\"https://colab.research.google.com/assets/colab-badge.svg\" alt=\"Open In Colab\"/></a>"
      ]
    },
    {
      "cell_type": "code",
      "execution_count": 1,
      "metadata": {
        "colab": {
          "base_uri": "https://localhost:8080/"
        },
        "id": "OQuccKYXtKpo",
        "outputId": "b16d8cf0-49cd-4cd9-c8ee-e0432df36323"
      },
      "outputs": [
        {
          "output_type": "stream",
          "name": "stdout",
          "text": [
            "Welcome to the Mad Libs game!\n",
            "Enter a noun: table\n",
            "Enter a verb: running\n",
            "Enter an adjective: beautiful\n",
            "Enter an adverb: when\n",
            "\n",
            "Your story:\n",
            "Today I went to the zoo and saw a(n) beautiful table that can running when.\n"
          ]
        }
      ],
      "source": [
        "print(\"Welcome to the Mad Libs game!\")\n",
        "\n",
        "noun = input(\"Enter a noun: \")\n",
        "verb = input(\"Enter a verb: \")\n",
        "adjective = input(\"Enter an adjective: \")\n",
        "adverb = input(\"Enter an adverb: \")\n",
        "\n",
        "story = f\"Today I went to the zoo and saw a(n) {adjective} {noun} that can {verb} {adverb}.\"\n",
        "print(\"\\nYour story:\")\n",
        "print(story)\n"
      ]
    }
  ]
}